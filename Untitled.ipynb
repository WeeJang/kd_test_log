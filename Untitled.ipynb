{
 "cells": [
  {
   "cell_type": "code",
   "execution_count": 32,
   "metadata": {
    "collapsed": true
   },
   "outputs": [],
   "source": [
    "# all\n",
    "\n",
    "import numpy as np\n",
    "import matplotlib.pyplot as plt\n",
    "\n",
    "origin_fish = [ 75569.0 , 3101.0 , 3247.0 , 3932.0 , 3545.0 , 3462.0 , 3920.0 , 3043.0 , 2768.0 , 2788.0 , 2802.0 , 3400.0 , 2880.0 , 3372.0 , 2938.0 , ]\n",
    "origin_caylay= [ 2109042.423 , 12862.873 , 12869.533 , 13940.525 , 12919.002 , 8633.547 , 8386.998 , 8348.181 , 8305.31 , 10083.38 , 8443.471 , 8376.623 , 8349.218 , 10308.054 , 9078.283 , 9200.246 , 8901.924 , 9821.314 , 8555.69 , 8617.82 , 8802.213 , 9258.163 , 9064.169 , 7456.671 , ]\n",
    "\n",
    "origin_fish = map(lambda x:x/1000.0,origin_fish)\n",
    "origin_caylay = map(lambda x:x/1000.0,origin_caylay)\n",
    "\n",
    "\n",
    "arr_len = len(origin_fish)\n",
    "origin_caylay = origin_caylay[:arr_len]\n",
    "\n",
    "X = np.linspace(1,arr_len,arr_len,endpoint=True)\n",
    "\n",
    "plt.plot (X, origin_fish, color='red', alpha=1.00,marker=\"D\",linestyle=\"-\",label=\"fishdb\")\n",
    "plt.plot (X, origin_caylay, color='blue', alpha=1.00,marker=\"H\",linestyle=\"--\",label=\"caylay\")\n",
    "\n",
    "\n",
    "plt.grid(color='black', linestyle='--', linewidth=1)\n",
    "plt.legend(loc='upper right', frameon=False)\n",
    "plt.title('override')\n",
    "plt.ylabel(\"elapsed time(ms)\")\n",
    "\n",
    "plt.show()\n"
   ]
  },
  {
   "cell_type": "code",
   "execution_count": 33,
   "metadata": {
    "collapsed": false
   },
   "outputs": [],
   "source": [
    "#all \n",
    "import numpy as np\n",
    "import matplotlib.pyplot as plt\n",
    "import math\n",
    "\n",
    "origin_fish = [ 75569.0 , 3101.0 , 3247.0 , 3932.0 , 3545.0 , 3462.0 , 3920.0 , 3043.0 , 2768.0 , 2788.0 , 2802.0 , 3400.0 , 2880.0 , 3372.0 , 2938.0 , ]\n",
    "origin_caylay= [ 2109042.423 , 12862.873 , 12869.533 , 13940.525 , 12919.002 , 8633.547 , 8386.998 , 8348.181 , 8305.31 , 10083.38 , 8443.471 , 8376.623 , 8349.218 , 10308.054 , 9078.283 , 9200.246 , 8901.924 , 9821.314 , 8555.69 , 8617.82 , 8802.213 , 9258.163 , 9064.169 , 7456.671 , ]\n",
    "\n",
    "origin_fish = map(lambda x:math.log(x/1000.0),origin_fish)\n",
    "origin_caylay = map(lambda x:math.log(x/1000.0),origin_caylay)\n",
    "\n",
    "\n",
    "arr_len = len(origin_fish)\n",
    "origin_caylay = origin_caylay[:arr_len]\n",
    "\n",
    "X = np.linspace(1,arr_len,arr_len,endpoint=True)\n",
    "\n",
    "plt.plot (X, origin_fish, color='red', alpha=1.00,marker=\"D\",linestyle=\"-\",label=\"fishdb\")\n",
    "plt.plot (X, origin_caylay, color='blue', alpha=1.00,marker=\"H\",linestyle=\"--\",label=\"caylay\")\n",
    "\n",
    "\n",
    "plt.grid(color='black', linestyle='--', linewidth=1)\n",
    "plt.legend(loc='upper right', frameon=False)\n",
    "plt.title('fishdb/caylay query test')\n",
    "plt.ylabel(\"elapsed time(ln(ms)\")\n",
    "\n",
    "plt.show()  "
   ]
  },
  {
   "cell_type": "code",
   "execution_count": null,
   "metadata": {
    "collapsed": false
   },
   "outputs": [],
   "source": [
    "# no cache -bar\n",
    "import numpy as np\n",
    "import matplotlib.pyplot as plt\n",
    "\n",
    "origin_arr = [ 2109042.423 ,75569.0 ]\n",
    "\n",
    "origin_arr = map(lambda x:x/1000.0,origin_arr)\n",
    "\n",
    "arr_len = len(origin_arr)\n",
    "\n",
    "X = np.arange(arr_len)\n",
    "X = map(lambda x:x+0.2,X)\n",
    "\n",
    "plt.bar(X, origin_arr,width = 0.6,facecolor='#9999ff', edgecolor='white')\n",
    "\n",
    "for x,y in zip(X,origin_arr):\n",
    "    plt.text(x+0.3, y+0.05, '%.2f' % y, ha='center', va= 'bottom')\n",
    "\n",
    "plt.title('query test with no-cache')\n",
    "plt.ylabel(\"elapsed time(ms)\")\n",
    "plt.xticks([0.5,1.5],('caylay', 'fishdb'))\n",
    "\n",
    "plt.xlim([0,2])\n",
    "\n",
    "plt.show()\n"
   ]
  },
  {
   "cell_type": "code",
   "execution_count": 62,
   "metadata": {
    "collapsed": false
   },
   "outputs": [],
   "source": [
    "# cached - boxplot\n",
    "\n",
    "import numpy as np\n",
    "import matplotlib.pyplot as plt\n",
    "\n",
    "origin_fish = [  3101.0 , 3247.0 , 3932.0 , 3545.0 , 3462.0 , 3920.0 , 3043.0 , 2768.0 , 2788.0 , 2802.0 , 3400.0 , 2880.0 , 3372.0 , 2938.0 , ]\n",
    "origin_caylay= [ 12862.873 , 12869.533 , 13940.525 , 12919.002 , 8633.547 , 8386.998 , 8348.181 , 8305.31 , 10083.38 , 8443.471 , 8376.623 , 8349.218 , 10308.054 , 9078.283 , 9200.246 , 8901.924 , 9821.314 , 8555.69 , 8617.82 , 8802.213 , 9258.163 , 9064.169 , 7456.671 , ]\n",
    "\n",
    "origin_fish = map(lambda x:x/1000.0,origin_fish)\n",
    "origin_caylay = map(lambda x:x/1000.0,origin_caylay)\n",
    "\n",
    "data = [origin_caylay,origin_fish]\n",
    "plt.boxplot (data)\n",
    "\n",
    "#plt.grid(color='black', linestyle='--', linewidth=1)\n",
    "#plt.legend(loc='upper right', frameon=False)\n",
    "plt.title('query test with cache')\n",
    "plt.ylabel(\"elapsed time(ms)\")\n",
    "plt.xticks([1,2],('caylay', 'fishdb'))\n",
    "plt.show()\n"
   ]
  },
  {
   "cell_type": "code",
   "execution_count": 63,
   "metadata": {
    "collapsed": true
   },
   "outputs": [],
   "source": [
    "# memory -bar \n",
    "\n",
    "import numpy as np\n",
    "import matplotlib.pyplot as plt\n",
    "\n",
    "origin_arr = [ 0.10 ,75569.0 ]\n",
    "\n",
    "origin_arr = map(lambda x:x/1000.0,origin_arr)\n",
    "\n",
    "arr_len = len(origin_arr)\n",
    "\n",
    "X = np.arange(arr_len)\n",
    "\n",
    "plt.bar(X, origin_arr, facecolor='#9999ff', edgecolor='white')\n",
    "\n",
    "for x,y in zip(X,origin_arr):\n",
    "    plt.text(x+0.4, y+0.05, '%.2f' % y, ha='center', va= 'bottom')\n",
    "\n",
    "plt.title('query test with no-cache')\n",
    "plt.ylabel(\"elapsed time(ms)\")\n",
    "\n",
    "plt.show()"
   ]
  },
  {
   "cell_type": "code",
   "execution_count": null,
   "metadata": {
    "collapsed": true
   },
   "outputs": [],
   "source": []
  }
 ],
 "metadata": {
  "kernelspec": {
   "display_name": "Python 2",
   "language": "python",
   "name": "python2"
  },
  "language_info": {
   "codemirror_mode": {
    "name": "ipython",
    "version": 2
   },
   "file_extension": ".py",
   "mimetype": "text/x-python",
   "name": "python",
   "nbconvert_exporter": "python",
   "pygments_lexer": "ipython2",
   "version": "2.7.6"
  }
 },
 "nbformat": 4,
 "nbformat_minor": 2
}
